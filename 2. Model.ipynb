{
 "cells": [
  {
   "cell_type": "code",
   "execution_count": 3,
   "id": "94482c46-3683-4173-9f9a-0307557f69b3",
   "metadata": {},
   "outputs": [],
   "source": [
    "# Import relevent libraries, we are using tenseerflow.\n",
    "\n",
    "import numpy as np\n",
    "import tensorflow as tf"
   ]
  },
  {
   "cell_type": "code",
   "execution_count": 7,
   "id": "933c9537-2c64-4dbd-a444-25055bf975c0",
   "metadata": {},
   "outputs": [],
   "source": [
    "# Load the data from npz file using numpy in different variables for inputs in float and targets in integer for training test and validation. \n",
    "\n",
    "npz = np.load('Audiobooks_data_train.npz')\n",
    "train_inputs = npz['inputs'].astype(np.float32)\n",
    "train_targets = npz['targets'].astype(np.int64)\n",
    "\n",
    "npz = np.load('Audiobooks_data_validation.npz')\n",
    "validation_inputs, validation_targets = npz['inputs'].astype(np.float32), npz['targets'].astype(np.int64)\n",
    "\n",
    "npz = np.load('Audiobooks_data_test.npz')\n",
    "test_inputs = npz['inputs'].astype(np.float32)\n",
    "test_targets = npz['targets'].astype(np.int64)"
   ]
  },
  {
   "cell_type": "code",
   "execution_count": 13,
   "id": "e264284f-e05b-431f-9f52-fac49ce2d661",
   "metadata": {},
   "outputs": [],
   "source": [
    "# Creating Machine Learning Algorithm\n",
    "\n",
    "# Define input size depending on the number of input features/variables\n",
    "input_size = 10\n",
    "\n",
    "# Define the output size, e.g., 2 for binary classification (buy or not buy)\n",
    "output_size = 2\n",
    "\n",
    "# Choose a hidden layer size to determine the depth and complexity of the Neural Network  \n",
    "hidden_layer_size = 50\n",
    "\n",
    "# Building the Sequential model with Keras\n",
    "model = tf.keras.Sequential([\n",
    "\n",
    "    # First hidden layer with 'relu' activation function\n",
    "    tf.keras.layers.Dense(hidden_layer_size, activation='relu'),\n",
    "\n",
    "    # Second hidden layer with 'relu' activation function\n",
    "    tf.keras.layers.Dense(hidden_layer_size, activation='relu'),\n",
    "\n",
    "    # Output layer with 'softmax' activation function for multi-class classification\n",
    "    tf.keras.layers.Dense(output_size, activation='softmax')\n",
    "])"
   ]
  },
  {
   "cell_type": "code",
   "execution_count": 15,
   "id": "1ecc82e3-b4bc-467b-bde1-dcc71b19b14d",
   "metadata": {},
   "outputs": [],
   "source": [
    "# Compile the model with Adam optimizer, sparse categorical cross-entropy loss, and accuracy as the metric\n",
    "\n",
    "model.compile(\n",
    "    optimizer='adam',\n",
    "    loss='sparse_categorical_crossentropy',  # Suitable for multi-class classification with integer labels\n",
    "    metrics=['accuracy']\n",
    ")"
   ]
  },
  {
   "cell_type": "code",
   "execution_count": 17,
   "id": "b65f0c79-f786-451c-a4fe-f6c3070d7fcb",
   "metadata": {},
   "outputs": [],
   "source": [
    "# Define the batch size (number of samples processed before updating the model) \n",
    "batch_size = 100\n",
    "\n",
    "# Define the maximum number of epochs (iterations over the entire training dataset)\n",
    "max_epochs = 100\n",
    "\n",
    "# Set up early stopping to prevent overfitting by stopping training if validation loss doesn't improve\n",
    "early_stopping = tf.keras.callbacks.EarlyStopping(patience=2)"
   ]
  },
  {
   "cell_type": "code",
   "execution_count": 19,
   "id": "57b0330d-2a80-4ce0-bfd2-4465da00cc65",
   "metadata": {},
   "outputs": [
    {
     "name": "stdout",
     "output_type": "stream",
     "text": [
      "Epoch 1/100\n",
      "36/36 - 1s - 41ms/step - accuracy: 0.7790 - loss: 0.5656 - val_accuracy: 0.8456 - val_loss: 0.4294\n",
      "Epoch 2/100\n",
      "36/36 - 0s - 3ms/step - accuracy: 0.8709 - loss: 0.3796 - val_accuracy: 0.8613 - val_loss: 0.3245\n",
      "Epoch 3/100\n",
      "36/36 - 0s - 3ms/step - accuracy: 0.8771 - loss: 0.3233 - val_accuracy: 0.8792 - val_loss: 0.2971\n",
      "Epoch 4/100\n",
      "36/36 - 0s - 3ms/step - accuracy: 0.8885 - loss: 0.3015 - val_accuracy: 0.8881 - val_loss: 0.2790\n",
      "Epoch 5/100\n",
      "36/36 - 0s - 3ms/step - accuracy: 0.8905 - loss: 0.2884 - val_accuracy: 0.8971 - val_loss: 0.2679\n",
      "Epoch 6/100\n",
      "36/36 - 0s - 3ms/step - accuracy: 0.8952 - loss: 0.2769 - val_accuracy: 0.8993 - val_loss: 0.2641\n",
      "Epoch 7/100\n",
      "36/36 - 0s - 3ms/step - accuracy: 0.8989 - loss: 0.2704 - val_accuracy: 0.9038 - val_loss: 0.2551\n",
      "Epoch 8/100\n",
      "36/36 - 0s - 3ms/step - accuracy: 0.9016 - loss: 0.2636 - val_accuracy: 0.9038 - val_loss: 0.2511\n",
      "Epoch 9/100\n",
      "36/36 - 0s - 3ms/step - accuracy: 0.9014 - loss: 0.2585 - val_accuracy: 0.9060 - val_loss: 0.2409\n",
      "Epoch 10/100\n",
      "36/36 - 0s - 3ms/step - accuracy: 0.9028 - loss: 0.2553 - val_accuracy: 0.9083 - val_loss: 0.2425\n",
      "Epoch 11/100\n",
      "36/36 - 0s - 3ms/step - accuracy: 0.9050 - loss: 0.2528 - val_accuracy: 0.9060 - val_loss: 0.2380\n",
      "Epoch 12/100\n",
      "36/36 - 0s - 4ms/step - accuracy: 0.9053 - loss: 0.2489 - val_accuracy: 0.9105 - val_loss: 0.2438\n",
      "Epoch 13/100\n",
      "36/36 - 0s - 3ms/step - accuracy: 0.9081 - loss: 0.2460 - val_accuracy: 0.9083 - val_loss: 0.2342\n",
      "Epoch 14/100\n",
      "36/36 - 0s - 3ms/step - accuracy: 0.9092 - loss: 0.2437 - val_accuracy: 0.9083 - val_loss: 0.2364\n",
      "Epoch 15/100\n",
      "36/36 - 0s - 3ms/step - accuracy: 0.9081 - loss: 0.2445 - val_accuracy: 0.9128 - val_loss: 0.2356\n"
     ]
    },
    {
     "data": {
      "text/plain": [
       "<keras.src.callbacks.history.History at 0x22e57c19fd0>"
      ]
     },
     "execution_count": 19,
     "metadata": {},
     "output_type": "execute_result"
    }
   ],
   "source": [
    "# Train the model using the training data, validating on validation data\n",
    "\n",
    "model.fit(\n",
    "    train_inputs,                # Features for training\n",
    "    train_targets,               # Targets for training\n",
    "    batch_size=batch_size,       # Batch size for training\n",
    "    epochs=max_epochs,           # Maximum number of epochs\n",
    "    callbacks=[early_stopping],  # Early stopping callback\n",
    "    validation_data=(validation_inputs, validation_targets),  # Validation data\n",
    "    verbose=2                    # Verbose mode for detailed logging of training process\n",
    ")"
   ]
  },
  {
   "cell_type": "code",
   "execution_count": 23,
   "id": "f766eb22-becc-4ef2-9668-2652727ae189",
   "metadata": {},
   "outputs": [
    {
     "name": "stdout",
     "output_type": "stream",
     "text": [
      "\u001b[1m14/14\u001b[0m \u001b[32m━━━━━━━━━━━━━━━━━━━━\u001b[0m\u001b[37m\u001b[0m \u001b[1m0s\u001b[0m 1ms/step - accuracy: 0.9051 - loss: 0.2677 \n",
      "\n",
      "Test loss: 0.23, Test accuracy: 92.19%\n"
     ]
    }
   ],
   "source": [
    "# Evaluate the model performance on the test data\n",
    "test_loss, test_accuracy = model.evaluate(test_inputs, test_targets)\n",
    "\n",
    "# Print the test loss and accuracy\n",
    "print('\\nTest loss: {0:.2f}, Test accuracy: {1:.2f}%'.format(test_loss, test_accuracy * 100))"
   ]
  },
  {
   "cell_type": "code",
   "execution_count": null,
   "id": "e838f885-130c-420d-a797-024327e10613",
   "metadata": {},
   "outputs": [],
   "source": []
  }
 ],
 "metadata": {
  "kernelspec": {
   "display_name": "Python (TensorFlow)",
   "language": "python",
   "name": "tensorflow_env"
  },
  "language_info": {
   "codemirror_mode": {
    "name": "ipython",
    "version": 3
   },
   "file_extension": ".py",
   "mimetype": "text/x-python",
   "name": "python",
   "nbconvert_exporter": "python",
   "pygments_lexer": "ipython3",
   "version": "3.9.19"
  }
 },
 "nbformat": 4,
 "nbformat_minor": 5
}

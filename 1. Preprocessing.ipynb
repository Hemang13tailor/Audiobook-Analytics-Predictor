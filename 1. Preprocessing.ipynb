{
 "cells": [
  {
   "cell_type": "code",
   "execution_count": 7,
   "id": "b2df24c3-62ab-4317-b35e-9e209a1d9b78",
   "metadata": {},
   "outputs": [],
   "source": [
    "# Import relevent libraries\n",
    "\n",
    "import numpy as np\n",
    "from sklearn import preprocessing"
   ]
  },
  {
   "cell_type": "code",
   "execution_count": 9,
   "id": "d1901297-e10f-4314-82b4-122a1c31ba81",
   "metadata": {},
   "outputs": [],
   "source": [
    "# Load the raw data\n",
    "\n",
    "raw_csv_data = np.loadtxt('Audiobooks_data.csv', delimiter = ',')"
   ]
  },
  {
   "cell_type": "code",
   "execution_count": 11,
   "id": "659ae7fd-a197-4f79-9fe2-a1d284d97479",
   "metadata": {},
   "outputs": [],
   "source": [
    "# inputs are all columns and the last one in targets\n",
    "\n",
    "unscaled_inputs_all = raw_csv_data[:,1:-1]\n",
    "targets_all = raw_csv_data[:,-1]"
   ]
  },
  {
   "cell_type": "code",
   "execution_count": 13,
   "id": "a9fb9d4d-4fa2-4cfb-9e82-96a4e7456443",
   "metadata": {},
   "outputs": [],
   "source": [
    "# Count how many targets are 1 i.e. customer did convert\n",
    "num_one_targets = int(np.sum(targets_all))\n",
    "\n",
    "# Counter for targets that are 0 i.e. customer did not convert\n",
    "zero_targets_counter = 0\n",
    "\n",
    "# We have to remove some input/target pairs\n",
    "indices_to_remove = []\n",
    "\n",
    "# Count no. of targets that are 0. \n",
    "for i in range(targets_all.shape[0]):\n",
    "    if targets_all[i] == 0:\n",
    "        zero_targets_counter += 1\n",
    "        if zero_targets_counter > num_one_targets:\n",
    "            indices_to_remove.append(i)\n",
    "\n",
    "# Create new variables that contain inputs and targets, and remove other unnecessary elements.\n",
    "unscaled_inputs_equal_priors = np.delete(unscaled_inputs_all, indices_to_remove, axis = 0)\n",
    "targets_equal_priors = np.delete(targets_all , indices_to_remove, axis = 0)"
   ]
  },
  {
   "cell_type": "code",
   "execution_count": 15,
   "id": "d574b937-2648-4e37-b58b-9b6189540c48",
   "metadata": {},
   "outputs": [],
   "source": [
    "# Standardise the inputs using sklearn\n",
    "\n",
    "scaled_inputs = preprocessing.scale(unscaled_inputs_equal_priors)"
   ]
  },
  {
   "cell_type": "code",
   "execution_count": 17,
   "id": "0874f4a0-eae1-4fa7-8b58-405b76d4a590",
   "metadata": {},
   "outputs": [],
   "source": [
    "# Shuffle the data, so no data is arranged in any way when we feed it.\n",
    "# We do this because we will be batching, and we want the data to be as randomly spread out as possible.\n",
    "\n",
    "shuffled_indices = np.arange(scaled_inputs.shape[0])\n",
    "np.random.shuffle(shuffled_indices)\n",
    "\n",
    "shuffled_inputs = scaled_inputs[shuffled_indices]\n",
    "shuffled_targets = targets_equal_priors[shuffled_indices]"
   ]
  },
  {
   "cell_type": "code",
   "execution_count": 21,
   "id": "cc1060f3-b448-456b-be76-de98e253ca10",
   "metadata": {},
   "outputs": [],
   "source": [
    "# Split the dataset into train, validation, and test \n",
    "\n",
    "# Count the total no. of sample\n",
    "samples_count = shuffled_inputs.shape[0]\n",
    "\n",
    "# Split data in each subset as 80 % training, 10 % validation and 10 % testing.\n",
    "train_samples_count = int(0.8 * samples_count)\n",
    "validation_samples_count = int(0.1 * samples_count)\n",
    "test_samples_count = samples_count - train_samples_count - validation_samples_count\n",
    "\n",
    "# Create variables that record the inputs and targets of training, validation and test.\n",
    "\n",
    "train_inputs = shuffled_inputs[: train_samples_count]\n",
    "train_targets = shuffled_targets[: train_samples_count]\n",
    "\n",
    "validation_inputs = shuffled_inputs[train_samples_count: train_samples_count + validation_samples_count]\n",
    "validation_targets = shuffled_targets[train_samples_count: train_samples_count + validation_samples_count]\n",
    "\n",
    "test_inputs = shuffled_inputs[train_samples_count + validation_samples_count : ]\n",
    "test_targets = shuffled_targets[train_samples_count + validation_samples_count : ]"
   ]
  },
  {
   "cell_type": "code",
   "execution_count": 23,
   "id": "6a6fc830-6485-4da2-8d02-240830b55148",
   "metadata": {},
   "outputs": [
    {
     "name": "stdout",
     "output_type": "stream",
     "text": [
      "1774.0 3579 0.4956691813355686\n",
      "227.0 447 0.5078299776286354\n",
      "236.0 448 0.5267857142857143\n"
     ]
    }
   ],
   "source": [
    "# Print no. of targets that are 1s, total no. of samples, and the proportion for training, validation and test.\n",
    "\n",
    "print(np.sum(train_targets), train_samples_count, np.sum(train_targets) / train_samples_count)\n",
    "print(np.sum(validation_targets), validation_samples_count, np.sum(validation_targets) / validation_samples_count)\n",
    "print(np.sum(test_targets), test_samples_count, np.sum(test_targets) / test_samples_count)"
   ]
  },
  {
   "cell_type": "code",
   "execution_count": 25,
   "id": "3e500bb2-80b4-4267-b6e5-826ab645cc2e",
   "metadata": {},
   "outputs": [],
   "source": [
    "# save the data in .npz format\n",
    "\n",
    "np.savez('Audiobooks_data_train', inputs = train_inputs, targets = train_targets)\n",
    "np.savez('Audiobooks_data_validation', inputs = validation_inputs, targets = validation_targets)\n",
    "np.savez('Audiobooks_data_test', inputs = test_inputs, targets = test_targets)"
   ]
  },
  {
   "cell_type": "code",
   "execution_count": null,
   "id": "d1af0405-ccbc-4cbe-9eca-391b4b925938",
   "metadata": {},
   "outputs": [],
   "source": []
  }
 ],
 "metadata": {
  "kernelspec": {
   "display_name": "Python (TensorFlow)",
   "language": "python",
   "name": "tensorflow_env"
  },
  "language_info": {
   "codemirror_mode": {
    "name": "ipython",
    "version": 3
   },
   "file_extension": ".py",
   "mimetype": "text/x-python",
   "name": "python",
   "nbconvert_exporter": "python",
   "pygments_lexer": "ipython3",
   "version": "3.9.19"
  }
 },
 "nbformat": 4,
 "nbformat_minor": 5
}
